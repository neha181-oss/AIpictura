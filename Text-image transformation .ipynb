{
 "cells": [
  {
   "cell_type": "code",
   "execution_count": 9,
   "id": "16a86e35",
   "metadata": {},
   "outputs": [
    {
     "name": "stdout",
     "output_type": "stream",
     "text": [
      "Requirement already satisfied: openai in c:\\users\\neha\\anaconda3\\lib\\site-packages (1.34.0)\n",
      "Requirement already satisfied: distro<2,>=1.7.0 in c:\\users\\neha\\anaconda3\\lib\\site-packages (from openai) (1.9.0)\n",
      "Requirement already satisfied: tqdm>4 in c:\\users\\neha\\anaconda3\\lib\\site-packages (from openai) (4.62.3)\n",
      "Requirement already satisfied: typing-extensions<5,>=4.7 in c:\\users\\neha\\anaconda3\\lib\\site-packages (from openai) (4.12.2)\n",
      "Requirement already satisfied: httpx<1,>=0.23.0 in c:\\users\\neha\\anaconda3\\lib\\site-packages (from openai) (0.27.0)\n",
      "Requirement already satisfied: sniffio in c:\\users\\neha\\anaconda3\\lib\\site-packages (from openai) (1.2.0)\n",
      "Requirement already satisfied: pydantic<3,>=1.9.0 in c:\\users\\neha\\anaconda3\\lib\\site-packages (from openai) (2.7.4)\n",
      "Requirement already satisfied: anyio<5,>=3.5.0 in c:\\users\\neha\\anaconda3\\lib\\site-packages (from openai) (4.4.0)\n",
      "Requirement already satisfied: exceptiongroup>=1.0.2 in c:\\users\\neha\\anaconda3\\lib\\site-packages (from anyio<5,>=3.5.0->openai) (1.2.1)\n",
      "Requirement already satisfied: idna>=2.8 in c:\\users\\neha\\anaconda3\\lib\\site-packages (from anyio<5,>=3.5.0->openai) (3.2)\n",
      "Requirement already satisfied: httpcore==1.* in c:\\users\\neha\\anaconda3\\lib\\site-packages (from httpx<1,>=0.23.0->openai) (1.0.5)\n",
      "Requirement already satisfied: certifi in c:\\users\\neha\\anaconda3\\lib\\site-packages (from httpx<1,>=0.23.0->openai) (2021.10.8)\n",
      "Requirement already satisfied: h11<0.15,>=0.13 in c:\\users\\neha\\anaconda3\\lib\\site-packages (from httpcore==1.*->httpx<1,>=0.23.0->openai) (0.14.0)\n",
      "Requirement already satisfied: annotated-types>=0.4.0 in c:\\users\\neha\\anaconda3\\lib\\site-packages (from pydantic<3,>=1.9.0->openai) (0.7.0)\n",
      "Requirement already satisfied: pydantic-core==2.18.4 in c:\\users\\neha\\anaconda3\\lib\\site-packages (from pydantic<3,>=1.9.0->openai) (2.18.4)\n",
      "Requirement already satisfied: colorama in c:\\users\\neha\\anaconda3\\lib\\site-packages (from tqdm>4->openai) (0.4.4)\n"
     ]
    },
    {
     "name": "stderr",
     "output_type": "stream",
     "text": [
      "WARNING: Ignoring invalid distribution -rotobuf (c:\\users\\neha\\anaconda3\\lib\\site-packages)\n",
      "WARNING: Ignoring invalid distribution -rotobuf (c:\\users\\neha\\anaconda3\\lib\\site-packages)\n",
      "WARNING: Ignoring invalid distribution -rotobuf (c:\\users\\neha\\anaconda3\\lib\\site-packages)\n",
      "WARNING: Ignoring invalid distribution -rotobuf (c:\\users\\neha\\anaconda3\\lib\\site-packages)\n",
      "WARNING: Ignoring invalid distribution -rotobuf (c:\\users\\neha\\anaconda3\\lib\\site-packages)\n",
      "WARNING: Ignoring invalid distribution -rotobuf (c:\\users\\neha\\anaconda3\\lib\\site-packages)\n"
     ]
    },
    {
     "name": "stdout",
     "output_type": "stream",
     "text": [
      "Requirement already satisfied: pillow in c:\\users\\neha\\anaconda3\\lib\\site-packages (8.4.0)\n"
     ]
    },
    {
     "name": "stderr",
     "output_type": "stream",
     "text": [
      "WARNING: Ignoring invalid distribution -rotobuf (c:\\users\\neha\\anaconda3\\lib\\site-packages)\n",
      "WARNING: Ignoring invalid distribution -rotobuf (c:\\users\\neha\\anaconda3\\lib\\site-packages)\n",
      "WARNING: Ignoring invalid distribution -rotobuf (c:\\users\\neha\\anaconda3\\lib\\site-packages)\n",
      "WARNING: Ignoring invalid distribution -rotobuf (c:\\users\\neha\\anaconda3\\lib\\site-packages)\n",
      "WARNING: Ignoring invalid distribution -rotobuf (c:\\users\\neha\\anaconda3\\lib\\site-packages)\n",
      "WARNING: Ignoring invalid distribution -rotobuf (c:\\users\\neha\\anaconda3\\lib\\site-packages)\n"
     ]
    }
   ],
   "source": [
    "!pip install openai\n",
    "!pip install pillow"
   ]
  },
  {
   "cell_type": "code",
   "execution_count": 10,
   "id": "7b18839a",
   "metadata": {},
   "outputs": [],
   "source": [
    "import tkinter as tk\n",
    "from tkinter import filedialog\n",
    "from tkinter import messagebox\n",
    "from PIL import Image, ImageTk\n",
    "import openai\n",
    "import requests\n",
    "from io import BytesIO\n",
    "import threading"
   ]
  },
  {
   "cell_type": "code",
   "execution_count": 11,
   "id": "3a725078",
   "metadata": {},
   "outputs": [
    {
     "name": "stderr",
     "output_type": "stream",
     "text": [
      "Exception in Tkinter callback\n"
     ]
    }
   ],
   "source": [
    "openai.api_key = 'sk-proj-ZdD94WHOtdYWinH0hFZQT3BlbkFJmutSuIXxGGqwRDQThU16'\n",
    "class DalleApp:\n",
    "    def __init__(self, root):\n",
    "        self.root = root\n",
    "        self.root.title(\"AIpictura - DALL·E 2 Image Generator\")\n",
    "        self.root.geometry(\"800x600\")\n",
    "\n",
    "        self.prompt_label = tk.Label(root, text=\"Enter your prompt:\")\n",
    "        self.prompt_label.pack(pady=10)\n",
    "\n",
    "        self.prompt_entry = tk.Entry(root, width=50)\n",
    "        self.prompt_entry.pack(pady=10)\n",
    "\n",
    "        self.generate_button = tk.Button(root, text=\"Generate Image\", command=self.generate_image)\n",
    "        self.generate_button.pack(pady=10)\n",
    "\n",
    "        self.image_label = tk.Label(root)\n",
    "        self.image_label.pack(pady=10)\n",
    "\n",
    "        self.save_button = tk.Button(root, text=\"Save Image\", command=self.save_image, state=tk.DISABLED)\n",
    "        self.save_button.pack(pady=10)\n",
    "\n",
    "        self.generated_image = None\n",
    "\n",
    "    def generate_image(self):\n",
    "        prompt = self.prompt_entry.get()\n",
    "        if not prompt:\n",
    "            messagebox.showwarning(\"Input Error\", \"Please enter a prompt.\")\n",
    "            return\n",
    "\n",
    "        try:\n",
    "            response = openai.Image.create(\n",
    "                prompt=prompt,\n",
    "                n=1,\n",
    "                size=\"512x512\"\n",
    "            )\n",
    "            image_url = response['data'][0]['url']\n",
    "\n",
    "            image_data = requests.get(image_url).content\n",
    "            image = Image.open(BytesIO(image_data))\n",
    "\n",
    "            self.generated_image = image\n",
    "            self.display_image(image)\n",
    "\n",
    "            self.save_button.config(state=tk.NORMAL)\n",
    "\n",
    "        except Exception as e:\n",
    "            messagebox.showerror(\"Error\", f\"Failed to generate image: {e}\")\n",
    "\n",
    "    def display_image(self, image):\n",
    "        image.thumbnail((512, 512))\n",
    "        photo = ImageTk.PhotoImage(image)\n",
    "        self.image_label.config(image=photo)\n",
    "        self.image_label.image = photo\n",
    "\n",
    "    def save_image(self):\n",
    "        if self.generated_image:\n",
    "            file_path = filedialog.asksaveasfilename(defaultextension=\".png\", filetypes=[(\"PNG files\", \"*.png\")])\n",
    "            if file_path:\n",
    "                self.generated_image.save(file_path)\n",
    "                messagebox.showinfo(\"Success\", \"Image saved successfully.\")\n",
    "\n",
    "def run_app():\n",
    "    root = tk.Tk()\n",
    "    app = DalleApp(root)\n",
    "    root.mainloop()\n",
    "\n",
    "# Run the Tkinter app in a separate thread\n",
    "thread = threading.Thread(target=run_app)\n",
    "thread.start()"
   ]
  },
  {
   "cell_type": "code",
   "execution_count": null,
   "id": "928e781d",
   "metadata": {},
   "outputs": [],
   "source": []
  }
 ],
 "metadata": {
  "kernelspec": {
   "display_name": "Python 3 (ipykernel)",
   "language": "python",
   "name": "python3"
  },
  "language_info": {
   "codemirror_mode": {
    "name": "ipython",
    "version": 3
   },
   "file_extension": ".py",
   "mimetype": "text/x-python",
   "name": "python",
   "nbconvert_exporter": "python",
   "pygments_lexer": "ipython3",
   "version": "3.9.7"
  }
 },
 "nbformat": 4,
 "nbformat_minor": 5
}
